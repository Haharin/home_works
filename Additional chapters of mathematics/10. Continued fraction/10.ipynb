{
 "cells": [
  {
   "cell_type": "markdown",
   "metadata": {},
   "source": [
    "## Программа для расчёта цепных дробей. Турчинов Иван Мк-10 Вариант 22"
   ]
  },
  {
   "cell_type": "code",
   "execution_count": 1,
   "metadata": {},
   "outputs": [],
   "source": [
    "def chained (a, b, chain):\n",
    "    c = a % b\n",
    "    if (c != 0):\n",
    "        print(a // b)\n",
    "        chain.append(a // b)\n",
    "        if (c == 1):\n",
    "            print(c,\"/\", b)\n",
    "            chain.append(b)\n",
    "        else:\n",
    "            print(b,\"/\", c)\n",
    "        chained(b, c, chain)\n",
    "    return chain"
   ]
  },
  {
   "cell_type": "code",
   "execution_count": 2,
   "metadata": {
    "scrolled": true
   },
   "outputs": [
    {
     "name": "stdout",
     "output_type": "stream",
     "text": [
      "8\n",
      "39 / 29\n",
      "1\n",
      "29 / 10\n",
      "2\n",
      "10 / 9\n",
      "1\n",
      "1 / 9\n",
      "[8, 1, 2, 1, 9]\n"
     ]
    }
   ],
   "source": [
    "print(chained(341, 39, []))"
   ]
  },
  {
   "cell_type": "code",
   "execution_count": 3,
   "metadata": {},
   "outputs": [
    {
     "name": "stdout",
     "output_type": "stream",
     "text": [
      "8\n",
      "35 / 19\n",
      "1\n",
      "19 / 16\n",
      "1\n",
      "16 / 3\n",
      "5\n",
      "1 / 3\n",
      "[8, 1, 1, 5, 3]\n"
     ]
    }
   ],
   "source": [
    "print(chained(299, 35, []))"
   ]
  },
  {
   "cell_type": "code",
   "execution_count": 4,
   "metadata": {},
   "outputs": [
    {
     "name": "stdout",
     "output_type": "stream",
     "text": [
      "5\n",
      "55 / 24\n",
      "2\n",
      "24 / 7\n",
      "3\n",
      "7 / 3\n",
      "2\n",
      "1 / 3\n",
      "[5, 2, 3, 2, 3]\n"
     ]
    }
   ],
   "source": [
    "print(chained(299, 55, []))"
   ]
  },
  {
   "cell_type": "code",
   "execution_count": 5,
   "metadata": {},
   "outputs": [
    {
     "name": "stdout",
     "output_type": "stream",
     "text": [
      "5\n",
      "65 / 16\n",
      "4\n",
      "1 / 16\n",
      "[5, 4, 16]\n"
     ]
    }
   ],
   "source": [
    "print(chained(341, 65, []))"
   ]
  },
  {
   "cell_type": "code",
   "execution_count": 6,
   "metadata": {},
   "outputs": [
    {
     "name": "stdout",
     "output_type": "stream",
     "text": [
      "4\n",
      "77 / 69\n",
      "1\n",
      "69 / 8\n",
      "8\n",
      "8 / 5\n",
      "1\n",
      "5 / 3\n",
      "1\n",
      "3 / 2\n",
      "1\n",
      "1 / 2\n",
      "[4, 1, 8, 1, 1, 1, 2]\n"
     ]
    }
   ],
   "source": [
    "print(chained(377, 77, []))"
   ]
  },
  {
   "cell_type": "code",
   "execution_count": 7,
   "metadata": {},
   "outputs": [
    {
     "name": "stdout",
     "output_type": "stream",
     "text": [
      "4\n",
      "91 / 73\n",
      "1\n",
      "73 / 18\n",
      "4\n",
      "1 / 18\n",
      "[4, 1, 4, 18]\n"
     ]
    }
   ],
   "source": [
    "print(chained(437, 91, []))"
   ]
  },
  {
   "cell_type": "code",
   "execution_count": 8,
   "metadata": {},
   "outputs": [
    {
     "name": "stdout",
     "output_type": "stream",
     "text": [
      "3\n",
      "143 / 8\n",
      "17\n",
      "8 / 7\n",
      "1\n",
      "1 / 7\n",
      "[3, 17, 1, 7]\n"
     ]
    }
   ],
   "source": [
    "print(chained(437, 143, []))"
   ]
  },
  {
   "cell_type": "code",
   "execution_count": 9,
   "metadata": {},
   "outputs": [
    {
     "name": "stdout",
     "output_type": "stream",
     "text": [
      "12\n",
      "15 / 7\n",
      "2\n",
      "1 / 7\n",
      "[12, 2, 7]\n"
     ]
    }
   ],
   "source": [
    "print(chained(187, 15, []))"
   ]
  },
  {
   "cell_type": "code",
   "execution_count": 10,
   "metadata": {},
   "outputs": [
    {
     "name": "stdout",
     "output_type": "stream",
     "text": [
      "6\n",
      "21 / 17\n",
      "1\n",
      "17 / 4\n",
      "4\n",
      "1 / 4\n",
      "[6, 1, 4, 4]\n"
     ]
    }
   ],
   "source": [
    "print(chained(143, 21, []))"
   ]
  },
  {
   "cell_type": "code",
   "execution_count": 11,
   "metadata": {},
   "outputs": [
    {
     "name": "stdout",
     "output_type": "stream",
     "text": [
      "2\n",
      "33 / 25\n",
      "1\n",
      "25 / 8\n",
      "3\n",
      "1 / 8\n",
      "[2, 1, 3, 8]\n"
     ]
    }
   ],
   "source": [
    "print(chained(91, 33, []))"
   ]
  }
 ],
 "metadata": {
  "kernelspec": {
   "display_name": "Python 3",
   "language": "python",
   "name": "python3"
  },
  "language_info": {
   "codemirror_mode": {
    "name": "ipython",
    "version": 3
   },
   "file_extension": ".py",
   "mimetype": "text/x-python",
   "name": "python",
   "nbconvert_exporter": "python",
   "pygments_lexer": "ipython3",
   "version": "3.6.3"
  }
 },
 "nbformat": 4,
 "nbformat_minor": 2
}
